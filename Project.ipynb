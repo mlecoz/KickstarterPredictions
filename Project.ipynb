{
 "cells": [
  {
   "cell_type": "markdown",
   "metadata": {},
   "source": [
    "# Predicting the Success of Kickstarter Campaigns Based on Set Goal and Category\n",
    "### Anja Subasic and Marissa Le Coz\n",
    "\n",
    "### Project Proposal\n",
    "\n",
    "Goals: In this project we will use machine learning and statistical data analysis to identify an optimal funding goal for people who start Kickstarter campaigns, depending on the category they chose for their campaign. Previous work in this area used features such as number of backers, total funds pledged, currency, deadline and others in order to predict the success of a Kickstarter campaign when it is first launched. We plan to look at different categories and subcategories to see whether a campaign is successful based on the category it belongs to, in addition to other important factors identified by previous work. Kickstarter offers fifteen different categories for users to select for their projects, including Film & Video, Food, Design, Technology and others. We hypothesize that the amount of money people are willing to pledge to a campaign varies by the category of the project.\n",
    "\n",
    "Questions: The main question this project will try to answer is whether the amount of money people are willing to pledge in a Kickstarter campaign varies by category and how. For example, we will try to identify what goal a user should set for their campaign, given that their product is in the Food category, in order for it to be successful. \n",
    "\n",
    "Dataset: We are going to use two Kickstarter projects datasets we found on Kaggle.com, which contain data about over 300,000 Kickstarter projects created between 2010 and 2017. Common features in the datasets include project id, name (title) of the project, category, sub-category, currency, deadline (date after which the campaign ends), goal (monetary goal), launch date, amount pledged, state (successful, cancelled or failed), number of backers and country. We will use state of the project as a dependent variable and value we are trying to predict, and a set of binary classifiers to predict whether a campaign is successful. We plan to drop feature vectors with the state “cancelled”, since we are only interested in campaigns that reached their deadline. We also plan to isolate feature vectors (each feature vector corresponds to one Kickstarter project, as shown in the figure below) for each category. \n",
    "\n",
    "https://www.kaggle.com/kemical/kickstarter-projects/data \n",
    "\n",
    "\n",
    "![title](kaggle_data.png)\n",
    "Sample from the Kickstarter Projects dataset from Kaggle.com\n",
    "\n",
    "Related Work: \n",
    "\n",
    "[1] Predicting the Success of Kickstarter Campaigns - https://towardsdatascience.com/predicting-the-success-of-kickstarter-campaigns-3f4a976419b9 \n",
    "\n",
    "Although this study was not presented as a formal academic paper, we felt that its work was very relevant to our research questions. The author, Adebola Lamidi, ran Machine Learning algorithms on 45,957 Kickstarter campaign samples from 2009-2011 to discover the attributes of successful projects. His dataset was different from the one we plan to use, although it had many of the same features as ours. His major findings were as follows. First, successful projects had shorter durations (i.e., the amount of time that the person who starts the Kickstarter campaign has set to reach his/her funding goal). Second, campaigns with lower funding goals were more successful, which is unsurprising (in fact, unsuccessful campaigns asked for three times more funding than successful campaigns, on average). Third, campaigns with more comments and updates were more successful, also unsurprisingly. Lamidi also determined which campaign categories were the most successful. Kickstarter campaigns in the Dance category were the most successful, with a 75% success rate. The Theater category was the second most successful, with a 70% success rate. Music came in at third, with a 68% success rate.\n",
    "\n",
    "While Limidi explores what makes a successful Kickstarter campaign in general, we wish to explore what makes a successful Kickstarter campaign for each campaign category. We think that, although it is interesting to know which categories perform the best on Kickstarter, it is not terribly useful. If you have an idea to post on Kickstarter, the category is already more or less determined by your idea. We want to help people with ideas for Kickstarter to maximize their chances of success.\n",
    "\n",
    "[2] Using Language to Predict Kickstarter Success\n",
    "https://web.stanford.edu/class/cs221/2017/restricted/p-final/rtuason/final.pdf \n",
    "\n",
    "While most projects using Kickstarter data focus on predicting the success of a campaign based on features such as campaign duration, target amount, etc., Sawhney, Tran, and Tuason take a different, NLP-based approach. They analyze the text of a campaign using sentiment analysis and make predictions about the success of the campaign using this information. Their classifier achieved a 70% success rate in predicting the outcome of Kickstarter campaigns. They considered examining the linguistic features of campaign content by campaign category, but they concluded that the 10,000 samples they had from each category were not sufficient to draw any reliable conclusions (although that does sound pretty high…). Hence, they did not share any category-by-category results. As we analyze Kickstarter campaigns by category for our project, we will have to assess whether the number of samples we have per category is sufficient for drawing reliable conclusions. \n"
   ]
  },
  {
   "cell_type": "markdown",
   "metadata": {
    "collapsed": true
   },
   "source": [
    "### Preliminary Work: Exploring and Visualizing the Data"
   ]
  },
  {
   "cell_type": "code",
   "execution_count": 19,
   "metadata": {
    "collapsed": true
   },
   "outputs": [],
   "source": [
    "import pandas as pd\n",
    "from datetime import datetime"
   ]
  },
  {
   "cell_type": "code",
   "execution_count": 14,
   "metadata": {
    "collapsed": true
   },
   "outputs": [],
   "source": [
    "# Getting the data in a dataframe\n",
    "\n",
    "dataframe = pd.DataFrame.from_csv('Project Files/ks-projects-201801.csv')"
   ]
  },
  {
   "cell_type": "markdown",
   "metadata": {},
   "source": [
    "Pre-processing: add a duration feature, add difference between goal and pledged feature, get rid of canceled campaigns"
   ]
  },
  {
   "cell_type": "code",
   "execution_count": 40,
   "metadata": {
    "collapsed": true
   },
   "outputs": [],
   "source": [
    "# remove canceled campaigns\n",
    "df_successful = dataframe[dataframe['state'] == 'successful']\n",
    "df_failed = dataframe[dataframe['state'] == 'failed']\n",
    "dataframe_filtered = pd.concat([df_successful, df_failed])\n",
    "\n",
    "# add feature for difference between goal and pledged\n",
    "# is positive if pledge more than goal. is negative if didn't meet goal\n",
    "dataframe_filtered['pledged_minus_goal'] = dataframe_filtered['usd_pledged_real'] - dataframe_filtered['usd_goal_real']\n",
    "\n",
    "# add duration feature\n",
    "\n",
    "duration_list = []\n",
    "for index, row in dataframe_filtered.iterrows():\n",
    "    \n",
    "    # get deadline datetime\n",
    "    deadline_timestamp = row['deadline']\n",
    "    deadline_components = deadline_timestamp.split(\"-\")\n",
    "    deadline = datetime(int(deadline_components[0]), int(deadline_components[1]), int(deadline_components[2]))\n",
    "    \n",
    "    # get launch datetime\n",
    "    launch_timestamp = row['launched']\n",
    "    launch_components = launch_timestamp.split(\" \")\n",
    "    launch_components = launch_components[0].split(\"-\")\n",
    "    launch = datetime(int(launch_components[0]), int(launch_components[1]), int(launch_components[2]))\n",
    "    \n",
    "    # simply subtract deadline and launch (you can subtract datetimes to get the duration)\n",
    "    dur = deadline - launch\n",
    "    dur_just_days = str(dur).split(\" \")[0]\n",
    "    duration_list.append(dur_just_days)\n",
    "\n",
    "# add this list as a column of the dataframe\n",
    "duration_series = pd.Series(duration_list)\n",
    "dataframe_filtered['duration'] = duration_series.values # duration given in days\n"
   ]
  },
  {
   "cell_type": "code",
   "execution_count": 41,
   "metadata": {},
   "outputs": [
    {
     "name": "stdout",
     "output_type": "stream",
     "text": [
      "                                                         name  \\\n",
      "Id                                                              \n",
      "1000014025                               Monarch Espresso Bar   \n",
      "1000023410  Support Solar Roasted Coffee & Green Energy!  ...   \n",
      "100005484                                    Lisa Lim New CD!   \n",
      "1000057089  Tombstone: Old West tabletop game and miniatur...   \n",
      "1000070642                Mike Corey's Darkness & Light Album   \n",
      "1000072011              CMUK. Shoes: Take on Life Feet First.   \n",
      "1000091520                        The Book Zoo - A Mini-Comic   \n",
      "1000102741  Matt Cavenaugh & Jenny Powers make their 1st a...   \n",
      "1000104688                                Permaculture Skills   \n",
      "1000104953  Rebel Army Origins: The Heroic Story Of Major ...   \n",
      "100011318                       My Moon - Animated Short Film   \n",
      "1000117861                  Ledr workbook: one tough journal!   \n",
      "1000120151            Feather Cast Furled Fly Fishing Leaders   \n",
      "100012079             Chris Eger Band - New Nashville Record!   \n",
      "1000131947                         Arrows & Sound Debut Album   \n",
      "1000132945  Zen in America: a film on Zen Buddhism in Nort...   \n",
      "1000146991             Help Scott Reynolds Make a New Record!   \n",
      "1000153208    Phil Younger - Slow Down (Official Music Video)   \n",
      "1000160286                          \"THE RETURN\" book project   \n",
      "1000171141             The Please, Please Me: Studio Premiere   \n",
      "1000183112                            Hot Chicken Takes Over.   \n",
      "1000184224                               Star and the Snowman   \n",
      "1000190427                                       Seas of Iron   \n",
      "1000201265  I'LL SEE YOU IN MY DREAMS - narrative feature ...   \n",
      "1000212914                       A Teacher's Travels in China   \n",
      "1000216800  Mothers Into Living Fit Yoga DVD for Moms and ...   \n",
      "1000227361                                         UNDERWATER   \n",
      "1000232288                                     Empires at Sea   \n",
      "1000235643                                       HIIT Bottle™   \n",
      "1000252415  Pantochino Productions: \"Cinderella Skeleton, ...   \n",
      "...                                                       ...   \n",
      "999701844        Eggbeater- An Independant Horror/Comedy Film   \n",
      "999709270                                       Doozy: The EP   \n",
      "999712771                    Claude-Philippe Benoit Monograph   \n",
      "999715332            Help Us Launch Our New Custom Boot Line!   \n",
      "999721430                       The Panic of 2008 documentary   \n",
      "999753943                  Parti Bash Mobile App & Technology   \n",
      "999764111   Bully For You!!!  Giving Birth to the \"Awww\" F...   \n",
      "99977040                                         County Blues   \n",
      "999778598               Michael & Jeanne \"Peace and Sunshine\"   \n",
      "999780798                                    Green City Times   \n",
      "99978792    Join the Fearless Movement, Andre Leneal's Deb...   \n",
      "999811847                 \"100 PHOTOGRAPHS FOR OUR LIBERTIES\"   \n",
      "999814706                      Pug Life - Inspired by the Pug   \n",
      "999814955                          Collinwood Needs Coffee!!!   \n",
      "99984851                                             \"Loreto\"   \n",
      "999865831   STATE OF G - Men's Blazer Jacket & Women's Car...   \n",
      "999867839                                       Transcaucasia   \n",
      "99987261    You're Not Cis, You Just Think You Are: My Enb...   \n",
      "999880710                                 Terminal Uniqueness   \n",
      "99991751     Here is the oasis for the youngest in the world.   \n",
      "999941823         The Chronicles of Erinoth - A Graphic Novel   \n",
      "999950812                               The Cease is Increase   \n",
      "999963618       Colorado International Activism Film Festival   \n",
      "99996661                           Date Seat - Boston iOS App   \n",
      "999972264                                             Islanda   \n",
      "999975836               Homemade fresh dog food, Cleveland OH   \n",
      "999977640                                           The Tribe   \n",
      "999986353   Walls of Remedy- New lesbian Romantic Comedy f...   \n",
      "999987933                            BioDefense Education Kit   \n",
      "999988282                   Nou Renmen Ayiti!  We Love Haiti!   \n",
      "\n",
      "                   category main_category currency    deadline     goal  \\\n",
      "Id                                                                        \n",
      "1000014025      Restaurants          Food      USD  2016-04-01  50000.0   \n",
      "1000023410             Food          Food      USD  2014-12-21   1000.0   \n",
      "100005484        Indie Rock         Music      USD  2013-04-08  12500.0   \n",
      "1000057089   Tabletop Games         Games      GBP  2017-05-03   5000.0   \n",
      "1000070642            Music         Music      USD  2012-08-17    250.0   \n",
      "1000072011          Fashion       Fashion      USD  2013-12-30  20000.0   \n",
      "1000091520           Comics        Comics      USD  2014-11-12    175.0   \n",
      "1000102741            Music         Music      USD  2011-01-06  10000.0   \n",
      "1000104688        Webseries  Film & Video      CAD  2014-12-14  17757.0   \n",
      "1000104953           Comics        Comics      GBP  2016-01-28    100.0   \n",
      "100011318         Animation  Film & Video      USD  2017-05-03  50000.0   \n",
      "1000117861   Product Design        Design      USD  2016-10-08   1000.0   \n",
      "1000120151   Product Design        Design      AUD  2015-08-22   2000.0   \n",
      "100012079             Music         Music      USD  2014-08-13  12000.0   \n",
      "1000131947       Indie Rock         Music      USD  2012-05-19   4000.0   \n",
      "1000132945      Documentary  Film & Video      USD  2013-10-21  10000.0   \n",
      "1000146991       Indie Rock         Music      USD  2012-09-02  15000.0   \n",
      "1000153208            Music         Music      USD  2016-12-20   2100.0   \n",
      "1000160286      Photography   Photography      USD  2013-12-13  15000.0   \n",
      "1000171141              Pop         Music      USD  2012-09-01  10000.0   \n",
      "1000183112      Restaurants          Food      USD  2014-10-16  40000.0   \n",
      "1000184224   Narrative Film  Film & Video      USD  2013-02-23   8000.0   \n",
      "1000190427   Tabletop Games         Games      USD  2013-07-19   3000.0   \n",
      "1000201265   Narrative Film  Film & Video      USD  2014-02-05  60000.0   \n",
      "1000212914      Photography   Photography      USD  2012-05-13   4000.0   \n",
      "1000216800           Family  Film & Video      USD  2014-06-19  11000.0   \n",
      "1000227361     Film & Video  Film & Video      USD  2012-03-26   9500.0   \n",
      "1000232288   Tabletop Games         Games      USD  2015-06-23  25000.0   \n",
      "1000235643           Drinks          Food      USD  2015-04-27  15000.0   \n",
      "1000252415          Theater       Theater      USD  2011-07-08  15000.0   \n",
      "...                     ...           ...      ...         ...      ...   \n",
      "999701844            Horror  Film & Video      USD  2017-05-22   3000.0   \n",
      "999709270              Rock         Music      USD  2011-08-07   1000.0   \n",
      "999712771         Art Books    Publishing      CAD  2014-09-20  20000.0   \n",
      "999715332          Footwear       Fashion      USD  2016-03-21  10000.0   \n",
      "999721430       Documentary  Film & Video      USD  2011-03-15  10000.0   \n",
      "999753943              Apps    Technology      USD  2017-01-07  25000.0   \n",
      "999764111    Product Design        Design      USD  2014-03-03  33975.0   \n",
      "99977040            Apparel       Fashion      USD  2015-02-05  16000.0   \n",
      "999778598        Indie Rock         Music      USD  2012-07-10  12500.0   \n",
      "999780798               Web    Journalism      USD  2016-08-28   5000.0   \n",
      "99978792                Pop         Music      USD  2014-03-08  10000.0   \n",
      "999811847          Fine Art   Photography      EUR  2015-12-10   5000.0   \n",
      "999814706           Apparel       Fashion      GBP  2017-05-03   5000.0   \n",
      "999814955       Restaurants          Food      USD  2014-07-28  12000.0   \n",
      "99984851             Comedy  Film & Video      USD  2014-06-05  12000.0   \n",
      "999865831           Apparel       Fashion      USD  2014-12-13  25000.0   \n",
      "999867839       Photography   Photography      USD  2011-01-08   4000.0   \n",
      "99987261         Nonfiction    Publishing      USD  2015-09-24    800.0   \n",
      "999880710        Nonfiction    Publishing      USD  2014-08-15   5000.0   \n",
      "99991751     Product Design        Design      CHF  2015-09-04  80000.0   \n",
      "999941823            Comics        Comics      GBP  2013-10-10  16000.0   \n",
      "999950812        Nonfiction    Publishing      USD  2012-09-14   4999.0   \n",
      "999963618    Narrative Film  Film & Video      USD  2017-04-09    500.0   \n",
      "99996661               Apps    Technology      USD  2016-09-05   6000.0   \n",
      "999972264       Documentary  Film & Video      USD  2012-03-16   1700.0   \n",
      "999975836       Small Batch          Food      USD  2017-04-19   6500.0   \n",
      "999977640    Narrative Film  Film & Video      USD  2011-07-19   1500.0   \n",
      "999986353    Narrative Film  Film & Video      USD  2010-08-16  15000.0   \n",
      "999987933        Technology    Technology      USD  2016-02-13  15000.0   \n",
      "999988282   Performance Art           Art      USD  2011-08-16   2000.0   \n",
      "\n",
      "                       launched    pledged       state  backers country  \\\n",
      "Id                                                                        \n",
      "1000014025  2016-02-26 13:38:27   52375.00  successful      224      US   \n",
      "1000023410  2014-12-01 18:30:44    1205.00  successful       16      US   \n",
      "100005484   2013-03-09 06:42:58   12700.00  successful      100      US   \n",
      "1000057089  2017-04-05 19:44:18   94175.00  successful      761      GB   \n",
      "1000070642  2012-08-02 14:11:32     250.00  successful        7      US   \n",
      "1000072011  2013-11-25 07:06:11   34268.00  successful      624      US   \n",
      "1000091520  2014-10-23 17:15:50     701.66  successful       66      US   \n",
      "1000102741  2010-12-07 23:16:50   15827.00  successful      147      US   \n",
      "1000104688  2014-11-14 18:02:00   48905.00  successful      571      CA   \n",
      "1000104953  2015-12-29 16:59:29     112.38  successful       27      GB   \n",
      "100011318   2017-04-03 17:11:33   57577.31  successful      840      US   \n",
      "1000117861  2016-09-07 13:14:26   47266.00  successful      549      US   \n",
      "1000120151  2015-07-23 03:09:43    2000.00  successful       18      AU   \n",
      "100012079   2014-07-14 22:35:51   13260.00  successful       92      US   \n",
      "1000131947  2012-04-19 01:04:31    8641.34  successful      157      US   \n",
      "1000132945  2013-09-21 23:00:54   15663.00  successful      213      US   \n",
      "1000146991  2012-08-03 18:43:16   17499.99  successful      277      US   \n",
      "1000153208  2016-12-09 20:27:02    2100.00  successful       34      US   \n",
      "1000160286  2013-11-13 00:34:20   23907.00  successful      232      US   \n",
      "1000171141  2012-07-15 03:27:33   12656.00  successful      181      US   \n",
      "1000183112  2014-09-16 02:31:08   63401.00  successful      855      US   \n",
      "1000184224  2013-01-24 06:04:05    9401.00  successful      154      US   \n",
      "1000190427  2013-06-19 03:16:33    8105.00  successful      218      US   \n",
      "1000201265  2014-01-11 00:57:14   61365.16  successful      632      US   \n",
      "1000212914  2012-04-18 23:34:56    4866.17  successful       71      US   \n",
      "1000216800  2014-05-20 17:18:29   11055.00  successful       51      US   \n",
      "1000227361  2012-02-13 19:00:37    9660.00  successful      121      US   \n",
      "1000232288  2015-05-24 12:47:52   37199.00  successful      448      US   \n",
      "1000235643  2015-03-13 18:33:08  124998.00  successful     2784      US   \n",
      "1000252415  2011-05-09 15:08:51   15425.00  successful      144      US   \n",
      "...                         ...        ...         ...      ...     ...   \n",
      "999701844   2017-04-22 02:27:41      10.00      failed        1      US   \n",
      "999709270   2011-07-08 04:24:20     661.00      failed       15      US   \n",
      "999712771   2014-08-21 16:46:34       0.00      failed        0      CA   \n",
      "999715332   2016-02-05 20:00:44       1.00      failed        1      US   \n",
      "999721430   2010-12-15 03:00:18     275.00      failed        4      US   \n",
      "999753943   2016-11-08 23:40:40     120.00      failed        2      US   \n",
      "999764111   2014-02-01 22:00:47    5652.00      failed       13      US   \n",
      "99977040    2015-01-06 04:17:32       1.00      failed        1      US   \n",
      "999778598   2012-06-10 19:35:15      15.00      failed        1      US   \n",
      "999780798   2016-07-29 05:27:43      11.00      failed        3      US   \n",
      "99978792    2014-01-27 09:25:24    4676.00      failed       78      US   \n",
      "999811847   2015-11-25 22:06:44    1574.00      failed       37      FR   \n",
      "999814706   2017-04-03 01:07:20       0.00      failed        0      GB   \n",
      "999814955   2014-06-28 13:28:12    2090.00      failed       42      US   \n",
      "99984851    2014-05-06 23:50:34       0.00      failed        0      US   \n",
      "999865831   2014-11-13 17:16:17   11643.00      failed       97      US   \n",
      "999867839   2010-11-08 02:43:59    3531.00      failed       37      US   \n",
      "99987261    2015-08-25 22:37:14      70.00      failed        5      US   \n",
      "999880710   2014-07-15 02:10:39      18.00      failed        5      US   \n",
      "99991751    2015-07-06 18:00:47       0.00      failed        0      CH   \n",
      "999941823   2013-09-10 22:45:26    2738.00      failed       38      GB   \n",
      "999950812   2012-08-15 17:11:00     980.00      failed       16      US   \n",
      "999963618   2017-02-08 02:28:44     135.00      failed        6      US   \n",
      "99996661    2016-07-29 15:36:29       0.00      failed        0      US   \n",
      "999972264   2012-02-15 04:31:10      25.00      failed        1      US   \n",
      "999975836   2017-03-20 22:08:22     154.00      failed        4      US   \n",
      "999977640   2011-06-22 03:35:14     155.00      failed        5      US   \n",
      "999986353   2010-07-01 19:40:30      20.00      failed        1      US   \n",
      "999987933   2016-01-13 18:13:53     200.00      failed        6      US   \n",
      "999988282   2011-07-19 09:07:47     524.00      failed       17      US   \n",
      "\n",
      "            usd pledged  usd_pledged_real  usd_goal_real  pledged_minus_goal  \\\n",
      "Id                                                                             \n",
      "1000014025     52375.00          52375.00       50000.00             2375.00   \n",
      "1000023410      1205.00           1205.00        1000.00              205.00   \n",
      "100005484      12700.00          12700.00       12500.00              200.00   \n",
      "1000057089     57763.78         121857.33        6469.73           115387.60   \n",
      "1000070642       250.00            250.00         250.00                0.00   \n",
      "1000072011     34268.00          34268.00       20000.00            14268.00   \n",
      "1000091520       701.66            701.66         175.00              526.66   \n",
      "1000102741     15827.00          15827.00       10000.00             5827.00   \n",
      "1000104688     43203.25          42174.03       15313.04            26860.99   \n",
      "1000104953       167.70            160.60         142.91               17.69   \n",
      "100011318      10120.00          57577.31       50000.00             7577.31   \n",
      "1000117861     11253.00          47266.00        1000.00            46266.00   \n",
      "1000120151      1473.62           1427.35        1427.35                0.00   \n",
      "100012079      13260.00          13260.00       12000.00             1260.00   \n",
      "1000131947      8641.34           8641.34        4000.00             4641.34   \n",
      "1000132945     15663.00          15663.00       10000.00             5663.00   \n",
      "1000146991     17499.99          17499.99       15000.00             2499.99   \n",
      "1000153208        83.00           2100.00        2100.00                0.00   \n",
      "1000160286     23907.00          23907.00       15000.00             8907.00   \n",
      "1000171141     12656.00          12656.00       10000.00             2656.00   \n",
      "1000183112     63401.00          63401.00       40000.00            23401.00   \n",
      "1000184224      9401.00           9401.00        8000.00             1401.00   \n",
      "1000190427      8105.00           8105.00        3000.00             5105.00   \n",
      "1000201265     61365.16          61365.16       60000.00             1365.16   \n",
      "1000212914      4866.17           4866.17        4000.00              866.17   \n",
      "1000216800     11055.00          11055.00       11000.00               55.00   \n",
      "1000227361      9660.00           9660.00        9500.00              160.00   \n",
      "1000232288     37199.00          37199.00       25000.00            12199.00   \n",
      "1000235643    124998.00         124998.00       15000.00           109998.00   \n",
      "1000252415     15425.00          15425.00       15000.00              425.00   \n",
      "...                 ...               ...            ...                 ...   \n",
      "999701844          0.00             10.00        3000.00            -2990.00   \n",
      "999709270        661.00            661.00        1000.00             -339.00   \n",
      "999712771          0.00              0.00       17998.56           -17998.56   \n",
      "999715332          1.00              1.00       10000.00            -9999.00   \n",
      "999721430        275.00            275.00       10000.00            -9725.00   \n",
      "999753943         70.00            120.00       25000.00           -24880.00   \n",
      "999764111       5652.00           5652.00       33975.00           -28323.00   \n",
      "99977040           1.00              1.00       16000.00           -15999.00   \n",
      "999778598         15.00             15.00       12500.00           -12485.00   \n",
      "999780798          0.00             11.00        5000.00            -4989.00   \n",
      "99978792        4676.00           4676.00       10000.00            -5324.00   \n",
      "999811847       1673.71           1723.53        5475.01            -3751.48   \n",
      "999814706          0.00              0.00        6469.73            -6469.73   \n",
      "999814955       2090.00           2090.00       12000.00            -9910.00   \n",
      "99984851           0.00              0.00       12000.00           -12000.00   \n",
      "999865831      11643.00          11643.00       25000.00           -13357.00   \n",
      "999867839       3531.00           3531.00        4000.00             -469.00   \n",
      "99987261          70.00             70.00         800.00             -730.00   \n",
      "999880710         18.00             18.00        5000.00            -4982.00   \n",
      "99991751           0.00              0.00       82207.27           -82207.27   \n",
      "999941823       4281.15           4374.99       25566.05           -21191.06   \n",
      "999950812        980.00            980.00        4999.00            -4019.00   \n",
      "999963618         45.00            135.00         500.00             -365.00   \n",
      "99996661           0.00              0.00        6000.00            -6000.00   \n",
      "999972264         25.00             25.00        1700.00            -1675.00   \n",
      "999975836          0.00            154.00        6500.00            -6346.00   \n",
      "999977640        155.00            155.00        1500.00            -1345.00   \n",
      "999986353         20.00             20.00       15000.00           -14980.00   \n",
      "999987933        200.00            200.00       15000.00           -14800.00   \n",
      "999988282        524.00            524.00        2000.00            -1476.00   \n",
      "\n",
      "           duration  \n",
      "Id                   \n",
      "1000014025       35  \n",
      "1000023410       20  \n",
      "100005484        30  \n",
      "1000057089       28  \n",
      "1000070642       15  \n",
      "1000072011       35  \n",
      "1000091520       20  \n",
      "1000102741       30  \n",
      "1000104688       30  \n",
      "1000104953       30  \n",
      "100011318        30  \n",
      "1000117861       31  \n",
      "1000120151       30  \n",
      "100012079        30  \n",
      "1000131947       30  \n",
      "1000132945       30  \n",
      "1000146991       30  \n",
      "1000153208       11  \n",
      "1000160286       30  \n",
      "1000171141       48  \n",
      "1000183112       30  \n",
      "1000184224       30  \n",
      "1000190427       30  \n",
      "1000201265       25  \n",
      "1000212914       25  \n",
      "1000216800       30  \n",
      "1000227361       42  \n",
      "1000232288       30  \n",
      "1000235643       45  \n",
      "1000252415       60  \n",
      "...             ...  \n",
      "999701844        30  \n",
      "999709270        30  \n",
      "999712771        30  \n",
      "999715332        45  \n",
      "999721430        90  \n",
      "999753943        60  \n",
      "999764111        30  \n",
      "99977040         30  \n",
      "999778598        30  \n",
      "999780798        30  \n",
      "99978792         40  \n",
      "999811847        15  \n",
      "999814706        30  \n",
      "999814955        30  \n",
      "99984851         30  \n",
      "999865831        30  \n",
      "999867839        61  \n",
      "99987261         30  \n",
      "999880710        31  \n",
      "99991751         60  \n",
      "999941823        30  \n",
      "999950812        30  \n",
      "999963618        60  \n",
      "99996661         38  \n",
      "999972264        30  \n",
      "999975836        30  \n",
      "999977640        27  \n",
      "999986353        46  \n",
      "999987933        31  \n",
      "999988282        28  \n",
      "\n",
      "[331675 rows x 16 columns]\n"
     ]
    }
   ],
   "source": [
    "print dataframe_filtered"
   ]
  },
  {
   "cell_type": "code",
   "execution_count": 42,
   "metadata": {
    "collapsed": true
   },
   "outputs": [],
   "source": [
    "dataframe_filtered.to_csv(\"kickstarter_data_cleaned.csv\")"
   ]
  },
  {
   "cell_type": "markdown",
   "metadata": {},
   "source": [
    "Visualize the number of samples from each category to see what we’ve got to work with. Is there enough data from each category to be able to do a reliable analysis on each? Are there certain categories we should exclude? What are the most popular categories, and is there are relationship between category and success?"
   ]
  },
  {
   "cell_type": "code",
   "execution_count": null,
   "metadata": {
    "collapsed": true
   },
   "outputs": [],
   "source": [
    "import seaborn as sns\n",
    "import matplotlib as plt\n",
    "\n",
    "sns.set(style=\"darkgrid\");\n",
    "sns.set(font_scale = 1.5);\n",
    "plt.rcParams['figure.figsize']=(20,10);\n",
    "ax = sns.countplot(x=\"main_category\", data=dataframe, order = dataframe['main_category'].value_counts().index);\n",
    "ax.set_title(\"Project Popularity by Main Category (15 Kickstarter Categories)\", fontsize=30);\n",
    "ax.set(xlabel='Category');\n",
    "ax.set(ylabel='Projects');\n"
   ]
  },
  {
   "cell_type": "markdown",
   "metadata": {},
   "source": [
    "What subcategories are there, and how many samples do we have from each?"
   ]
  },
  {
   "cell_type": "code",
   "execution_count": 52,
   "metadata": {},
   "outputs": [
    {
     "data": {
      "image/png": "[encoded data removed]",
      "text/plain": [
       "<Figure size 1440x720 with 1 Axes>"
      ]
     },
     "metadata": {},
     "output_type": "display_data"
    }
   ],
   "source": [
    "sns.set(style=\"darkgrid\");\n",
    "sns.set(font_scale = 1.5);\n",
    "plt.rcParams['figure.figsize']=(20,10);\n",
    "ax = sns.countplot(x=\"category\", data=dataframe, order = dataframe['category'].value_counts().index);\n",
    "ax.set_title(\"Project Popularity by Subcategory\", fontsize=30);\n",
    "ax.set_xticklabels([])\n",
    "ax.set(xlabel='Category');\n",
    "ax.set(ylabel='Projects');\n"
   ]
  },
  {
   "cell_type": "code",
   "execution_count": 50,
   "metadata": {},
   "outputs": [
    {
     "data": {
      "image/png": "[encoded data removed]",
      "text/plain": [
       "<Figure size 1440x720 with 1 Axes>"
      ]
     },
     "metadata": {},
     "output_type": "display_data"
    }
   ],
   "source": [
    "sns.set(style=\"darkgrid\");\n",
    "sns.set(font_scale = 1.5);\n",
    "plt.rcParams['figure.figsize']=(20,10);\n",
    "ax = sns.countplot(x=\"category\", data=dataframe, order = dataframe['category'].value_counts().iloc[:10].index);\n",
    "ax.set_title(\"Project Popularity - Top 10 Subcategories\", fontsize=30);\n",
    "ax.set_xticklabels(ax.get_xticklabels(), rotation=40, ha=\"right\")\n",
    "ax.set(xlabel='Category');\n",
    "ax.set(ylabel='Projects');"
   ]
  },
  {
   "cell_type": "markdown",
   "metadata": {},
   "source": [
    "How does the goal amount impact success? Per category, represent the percent success rate and the percent fail rate for each bucket of dollar amounts."
   ]
  },
  {
   "cell_type": "code",
   "execution_count": 59,
   "metadata": {},
   "outputs": [
    {
     "data": {
      "text/plain": [
       "(array([  3.31561000e+05,   3.20000000e+01,   2.20000000e+01,\n",
       "          9.00000000e+00,   1.30000000e+01,   4.00000000e+00,\n",
       "          1.00000000e+00,   3.00000000e+00,   0.00000000e+00,\n",
       "          3.00000000e+01]),\n",
       " array([  1.00000000e-02,   1.00000000e+07,   2.00000000e+07,\n",
       "          3.00000000e+07,   4.00000000e+07,   5.00000000e+07,\n",
       "          6.00000000e+07,   7.00000000e+07,   8.00000000e+07,\n",
       "          9.00000000e+07,   1.00000000e+08]),\n",
       " <a list of 10 Patch objects>)"
      ]
     },
     "execution_count": 59,
     "metadata": {},
     "output_type": "execute_result"
    }
   ],
   "source": [
    "# Find where the majority of the projects lie in terms of goal amount\n",
    "from matplotlib import pyplot as plt\n",
    "\n",
    "goals_df = dataframe_filtered['goal']\n",
    "plt.hist(goals_df, 10)\n",
    "# goals_df.hist(bins=5)\n",
    "# plt.show()"
   ]
  },
  {
   "cell_type": "code",
   "execution_count": 48,
   "metadata": {},
   "outputs": [
    {
     "name": "stdout",
     "output_type": "stream",
     "text": [
      "100000000.0\n"
     ]
    }
   ],
   "source": [
    "dataframe_modified = dataframe_filtered.sort_values(\"goal\", inplace=False, ascending=False)\n",
    "max_goal = dataframe_modified['goal'].iloc[0]\n",
    "print max_goal # this will help us determine buckets"
   ]
  },
  {
   "cell_type": "code",
   "execution_count": 49,
   "metadata": {},
   "outputs": [],
   "source": [
    "product_design_df = dataframe_filtered[dataframe_filtered['category'] == 'Product Design']\n",
    "documentary_df = dataframe_filtered[dataframe_filtered['category'] == 'Documentary']\n",
    "music_df = dataframe_filtered[dataframe_filtered['category'] == 'Music']\n",
    "tabletop_games_df = dataframe_filtered[dataframe_filtered['category'] == 'Tabletop Games']\n",
    "shorts_df = dataframe_filtered[dataframe_filtered['category'] == 'Shorts']\n",
    "video_games_df = dataframe_filtered[dataframe_filtered['category'] == 'Video Games']\n",
    "food_df = dataframe_filtered[dataframe_filtered['category'] == 'Food']\n",
    "film_and_vid_df = dataframe_filtered[dataframe_filtered['category'] == 'Film & Video']\n",
    "fiction_df = dataframe_filtered[dataframe_filtered['category'] == 'Fiction']\n",
    "fashion_df = dataframe_filtered[dataframe_filtered['category'] == 'Fashion']"
   ]
  },
  {
   "cell_type": "code",
   "execution_count": 80,
   "metadata": {},
   "outputs": [
    {
     "name": "stdout",
     "output_type": "stream",
     "text": [
      "100000000.0\n",
      "0.0066978\n",
      "0\n",
      "20000000\n"
     ]
    },
    {
     "data": {
      "image/png": "[encoded data removed]",
      "text/plain": [
       "<matplotlib.figure.Figure at 0x1117345d0>"
      ]
     },
     "metadata": {},
     "output_type": "display_data"
    }
   ],
   "source": [
    "import numpy as np\n",
    "def success_by_goal_bar_plot(category):\n",
    "    \n",
    "    df = dataframe_filtered[dataframe_filtered['category'] == category]\n",
    "#     length = df.shape[0]\n",
    "    \n",
    "    dataframe_modified = dataframe_filtered.sort_values(\"goal\", inplace=False, ascending=False)\n",
    "    max_goal = dataframe_modified['goal'].iloc[0]\n",
    "    print max_goal\n",
    "    \n",
    "    dataframe_modified = dataframe_filtered.sort_values(\"goal\", inplace=False, ascending=True)\n",
    "    \n",
    "    bucket_size = int(max_goal / 5)\n",
    "    \n",
    "    # df one has the lowest goal amounts, df five has the highest goal amounts\n",
    "    df1 = dataframe_modified[0:bucket_size]\n",
    "    df2 = dataframe_modified[bucket_size:2*bucket_size]\n",
    "    df3 = dataframe_modified[2*bucket_size:3*bucket_size]\n",
    "    df4 = dataframe_modified[3*bucket_size:4*bucket_size]\n",
    "    df5 = dataframe_modified[4*bucket_size:5*bucket_size]\n",
    "    \n",
    "    df1_success = df1[df1['state'] == 'successful']\n",
    "    df2_success = df2[df2['state'] == 'successful']\n",
    "    df3_success = df3[df3['state'] == 'successful']\n",
    "    df4_success = df4[df4['state'] == 'successful']\n",
    "    df5_success = df5[df5['state'] == 'successful']\n",
    "    \n",
    "    df1_successes = df1_success.shape[0]\n",
    "    df2_successes = df2_success.shape[0]\n",
    "    df3_successes = df3_success.shape[0]\n",
    "    df4_successes = df4_success.shape[0]\n",
    "    df5_successes = df5_success.shape[0]\n",
    "    \n",
    "    objects = (\"0\" + \" to \" + str(bucket_size), str(bucket_size) + \" to \" + str(2*bucket_size), str(2*bucket_size) + \" to \" + str(3*bucket_size), str(3*bucket_size) + \" to \" + str(4*bucket_size), str(4*bucket_size) + \" to \" + str(5*bucket_size))\n",
    "    y_pos = np.arange(len(objects))\n",
    "    success_rate = [float(df1_successes)/bucket_size, float(df2_successes)/bucket_size, float(df3_successes)/bucket_size, float(df4_successes)/bucket_size, float(df5_successes)/bucket_size]\n",
    "    \n",
    "    print float(df1_successes)/bucket_size\n",
    "    print df2_successes\n",
    "    print bucket_size\n",
    "    \n",
    "    plt.barh(y_pos, success_rate, align='center', alpha=0.5)\n",
    "    plt.yticks(y_pos, objects)\n",
    "    plt.ylabel('Goal Amounts in USD')\n",
    "    plt.title('Percent Campaign Success for ' + category)\n",
    "\n",
    "    plt.show()\n",
    "\n",
    "success_by_goal_bar_plot('Fashion')\n"
   ]
  },
  {
   "cell_type": "markdown",
   "metadata": {},
   "source": [
    "How does the sentiment of the title impact success by category? Do certain categories fare better with a happy title vs a sad title? Or is there no difference across categories? What about the most popular subcategories?"
   ]
  },
  {
   "cell_type": "code",
   "execution_count": null,
   "metadata": {
    "collapsed": true
   },
   "outputs": [],
   "source": []
  },
  {
   "cell_type": "markdown",
   "metadata": {},
   "source": [
    "How does duration impact success per category? What about the most popular subcategories?"
   ]
  },
  {
   "cell_type": "code",
   "execution_count": null,
   "metadata": {
    "collapsed": true
   },
   "outputs": [],
   "source": []
  },
  {
   "cell_type": "markdown",
   "metadata": {},
   "source": [
    "How does currency impact success per category? What about the most popular subcategories?"
   ]
  },
  {
   "cell_type": "code",
   "execution_count": null,
   "metadata": {
    "collapsed": true
   },
   "outputs": [],
   "source": []
  },
  {
   "cell_type": "markdown",
   "metadata": {},
   "source": [
    "How does country or currency impact success per category? What about the most popular subcategories?"
   ]
  },
  {
   "cell_type": "code",
   "execution_count": null,
   "metadata": {
    "collapsed": true
   },
   "outputs": [],
   "source": []
  },
  {
   "cell_type": "markdown",
   "metadata": {},
   "source": [
    "Per category, how much do failed campaigns miss by as a percent of what they asked for? Which categories tend to “overask” or “underask” for money? What about the most popular subcategories?"
   ]
  },
  {
   "cell_type": "code",
   "execution_count": null,
   "metadata": {
    "collapsed": true
   },
   "outputs": [],
   "source": []
  },
  {
   "cell_type": "markdown",
   "metadata": {},
   "source": [
    "How does the number of backers impact success per category? What about the most popular subcategories?"
   ]
  },
  {
   "cell_type": "code",
   "execution_count": null,
   "metadata": {
    "collapsed": true
   },
   "outputs": [],
   "source": []
  },
  {
   "cell_type": "markdown",
   "metadata": {},
   "source": [
    "### Post-Exploration Work: \"The Interesting Stuff\"\n",
    "More tasks tbd based on the results of the exploratory work."
   ]
  },
  {
   "cell_type": "markdown",
   "metadata": {},
   "source": [
    "For each category i, is there a good “threshold goal,” x_i, above which a success is y% likely? What are the x_i’s and y? What is the best goal amount to ask for per category?"
   ]
  },
  {
   "cell_type": "code",
   "execution_count": null,
   "metadata": {
    "collapsed": true
   },
   "outputs": [],
   "source": []
  },
  {
   "cell_type": "markdown",
   "metadata": {},
   "source": [
    "Which subset of features is the most important in determining success for each category?"
   ]
  },
  {
   "cell_type": "code",
   "execution_count": null,
   "metadata": {
    "collapsed": true
   },
   "outputs": [],
   "source": []
  },
  {
   "cell_type": "markdown",
   "metadata": {},
   "source": [
    "Determine the ideal traits of a campaign in each category."
   ]
  },
  {
   "cell_type": "code",
   "execution_count": null,
   "metadata": {
    "collapsed": true
   },
   "outputs": [],
   "source": []
  }
 ],
 "metadata": {
  "kernelspec": {
   "display_name": "Python 2",
   "language": "python",
   "name": "python2"
  },
  "language_info": {
   "codemirror_mode": {
    "name": "ipython",
    "version": 2
   },
   "file_extension": ".py",
   "mimetype": "text/x-python",
   "name": "python",
   "nbconvert_exporter": "python",
   "pygments_lexer": "ipython2",
   "version": "2.7.14"
  }
 },
 "nbformat": 4,
 "nbformat_minor": 2
}
