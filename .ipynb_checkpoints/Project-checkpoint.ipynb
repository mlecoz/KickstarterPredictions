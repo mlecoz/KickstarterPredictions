{
 "cells": [
  {
   "cell_type": "markdown",
   "metadata": {},
   "source": [
    "# Predicting the Success of Kickstarter Campaigns Based on Set Goal and Category\n",
    "### Anja Subasic and Marissa Le Coz\n",
    "\n",
    "### Project Proposal\n",
    "\n",
    "Goals: In this project we will use machine learning and statistical data analysis to identify an optimal funding goal for people who start Kickstarter campaigns, depending on the category they chose for their campaign. Previous work in this area used features such as number of backers, total funds pledged, currency, deadline and others in order to predict the success of a Kickstarter campaign when it is first launched. We plan to look at different categories and subcategories to see whether a campaign is successful based on the category it belongs to, in addition to other important factors identified by previous work. Kickstarter offers fifteen different categories for users to select for their projects, including Film & Video, Food, Design, Technology and others. We hypothesize that the amount of money people are willing to pledge to a campaign varies by the category of the project.\n",
    "\n",
    "Questions: The main question this project will try to answer is whether the amount of money people are willing to pledge in a Kickstarter campaign varies by category and how. For example, we will try to identify what goal a user should set for their campaign, given that their product is in the Food category, in order for it to be successful. \n",
    "\n",
    "Dataset: We are going to use two Kickstarter projects datasets we found on Kaggle.com, which contain data about over 300,000 Kickstarter projects created between 2010 and 2017. Common features in the datasets include project id, name (title) of the project, category, sub-category, currency, deadline (date after which the campaign ends), goal (monetary goal), launch date, amount pledged, state (successful, cancelled or failed), number of backers and country. We will use state of the project as a dependent variable and value we are trying to predict, and a set of binary classifiers to predict whether a campaign is successful. We plan to drop feature vectors with the state “cancelled”, since we are only interested in campaigns that reached their deadline. We also plan to isolate feature vectors (each feature vector corresponds to one Kickstarter project, as shown in the figure below) for each category. \n",
    "\n",
    "https://www.kaggle.com/kemical/kickstarter-projects/data \n",
    "\n",
    "\n",
    "![title](kaggle_data.png)\n",
    "Sample from the Kickstarter Projects dataset from Kaggle.com\n",
    "\n",
    "Related Work: \n",
    "\n",
    "[1] Predicting the Success of Kickstarter Campaigns - https://towardsdatascience.com/predicting-the-success-of-kickstarter-campaigns-3f4a976419b9 \n",
    "\n",
    "Although this study was not presented as a formal academic paper, we felt that its work was very relevant to our research questions. The author, Adebola Lamidi, ran Machine Learning algorithms on 45,957 Kickstarter campaign samples from 2009-2011 to discover the attributes of successful projects. His dataset was different from the one we plan to use, although it had many of the same features as ours. His major findings were as follows. First, successful projects had shorter durations (i.e., the amount of time that the person who starts the Kickstarter campaign has set to reach his/her funding goal). Second, campaigns with lower funding goals were more successful, which is unsurprising (in fact, unsuccessful campaigns asked for three times more funding than successful campaigns, on average). Third, campaigns with more comments and updates were more successful, also unsurprisingly. Lamidi also determined which campaign categories were the most successful. Kickstarter campaigns in the Dance category were the most successful, with a 75% success rate. The Theater category was the second most successful, with a 70% success rate. Music came in at third, with a 68% success rate.\n",
    "\n",
    "While Limidi explores what makes a successful Kickstarter campaign in general, we wish to explore what makes a successful Kickstarter campaign for each campaign category. We think that, although it is interesting to know which categories perform the best on Kickstarter, it is not terribly useful. If you have an idea to post on Kickstarter, the category is already more or less determined by your idea. We want to help people with ideas for Kickstarter to maximize their chances of success.\n",
    "\n",
    "[2] Using Language to Predict Kickstarter Success\n",
    "https://web.stanford.edu/class/cs221/2017/restricted/p-final/rtuason/final.pdf \n",
    "\n",
    "While most projects using Kickstarter data focus on predicting the success of a campaign based on features such as campaign duration, target amount, etc., Sawhney, Tran, and Tuason take a different, NLP-based approach. They analyze the text of a campaign using sentiment analysis and make predictions about the success of the campaign using this information. Their classifier achieved a 70% success rate in predicting the outcome of Kickstarter campaigns. They considered examining the linguistic features of campaign content by campaign category, but they concluded that the 10,000 samples they had from each category were not sufficient to draw any reliable conclusions (although that does sound pretty high…). Hence, they did not share any category-by-category results. As we analyze Kickstarter campaigns by category for our project, we will have to assess whether the number of samples we have per category is sufficient for drawing reliable conclusions. \n"
   ]
  },
  {
   "cell_type": "markdown",
   "metadata": {
    "collapsed": true
   },
   "source": [
    "### Preliminary Work: Exploring and Visualizing the Data"
   ]
  },
  {
   "cell_type": "code",
   "execution_count": 2,
   "metadata": {
    "collapsed": true
   },
   "outputs": [],
   "source": [
    "import pandas as pd"
   ]
  },
  {
   "cell_type": "code",
   "execution_count": 3,
   "metadata": {},
   "outputs": [],
   "source": [
    "# Getting the data in a dataframe\n",
    "\n",
    "dataframe = pd.DataFrame.from_csv('Project Files/ks-projects-201801.csv')"
   ]
  },
  {
   "cell_type": "markdown",
   "metadata": {},
   "source": [
    "Pre-processing: add a duration feature, add difference between goal and pledged feature, get rid of canceled campaigns, get rid of the insignificant category column"
   ]
  },
  {
   "cell_type": "code",
   "execution_count": null,
   "metadata": {
    "collapsed": true
   },
   "outputs": [],
   "source": []
  },
  {
   "cell_type": "markdown",
   "metadata": {},
   "source": [
    "Visualize the number of samples from each category to see what we’ve got to work with. Is there enough data from each category to be able to do a reliable analysis on each? Are there certain categories we should exclude? What are the most popular categories, and is there are relationship between category and success?"
   ]
  },
  {
   "cell_type": "code",
   "execution_count": null,
   "metadata": {
    "collapsed": true
   },
   "outputs": [],
   "source": []
  },
  {
   "cell_type": "markdown",
   "metadata": {},
   "source": [
    "What subcategories are there, and how many samples do we have from each?"
   ]
  },
  {
   "cell_type": "code",
   "execution_count": null,
   "metadata": {
    "collapsed": true
   },
   "outputs": [],
   "source": []
  },
  {
   "cell_type": "markdown",
   "metadata": {},
   "source": [
    "For each category, plot a curve (regression maybe) where the amount of money requested is on the x axis and the percent of successful campaigns for each dollar amount is on the y axis. What is the distribution like? Is it Gaussian? Is each Gaussian shifted based on the category? What about the most popular subcategories?"
   ]
  },
  {
   "cell_type": "code",
   "execution_count": null,
   "metadata": {
    "collapsed": true
   },
   "outputs": [],
   "source": []
  },
  {
   "cell_type": "markdown",
   "metadata": {},
   "source": [
    "How does the sentiment of the title impact success by category? Do certain categories fare better with a happy title vs a sad title? Or is there no difference across categories? What about the most popular subcategories?"
   ]
  },
  {
   "cell_type": "code",
   "execution_count": null,
   "metadata": {
    "collapsed": true
   },
   "outputs": [],
   "source": []
  },
  {
   "cell_type": "markdown",
   "metadata": {},
   "source": [
    "How does duration impact success per category? What about the most popular subcategories?"
   ]
  },
  {
   "cell_type": "code",
   "execution_count": null,
   "metadata": {
    "collapsed": true
   },
   "outputs": [],
   "source": []
  },
  {
   "cell_type": "markdown",
   "metadata": {},
   "source": [
    "How does currency impact success per category? What about the most popular subcategories?"
   ]
  },
  {
   "cell_type": "code",
   "execution_count": null,
   "metadata": {
    "collapsed": true
   },
   "outputs": [],
   "source": []
  },
  {
   "cell_type": "markdown",
   "metadata": {},
   "source": [
    "How does country or currency impact success per category? What about the most popular subcategories?"
   ]
  },
  {
   "cell_type": "code",
   "execution_count": null,
   "metadata": {
    "collapsed": true
   },
   "outputs": [],
   "source": []
  },
  {
   "cell_type": "markdown",
   "metadata": {},
   "source": [
    "Per category, how much do failed campaigns miss by as a percent of what they asked for? Which categories tend to “overask” or “underask” for money? What about the most popular subcategories?"
   ]
  },
  {
   "cell_type": "code",
   "execution_count": null,
   "metadata": {
    "collapsed": true
   },
   "outputs": [],
   "source": []
  },
  {
   "cell_type": "markdown",
   "metadata": {},
   "source": [
    "How does the number of backers impact success per category? What about the most popular subcategories?"
   ]
  },
  {
   "cell_type": "code",
   "execution_count": null,
   "metadata": {
    "collapsed": true
   },
   "outputs": [],
   "source": []
  },
  {
   "cell_type": "markdown",
   "metadata": {},
   "source": [
    "### Post-Exploration Work: \"The Interesting Stuff\"\n",
    "More tasks tbd based on the results of the exploratory work."
   ]
  },
  {
   "cell_type": "markdown",
   "metadata": {},
   "source": [
    "For each category i, is there a good “threshold goal,” x_i, above which a success is y% likely? What are the x_i’s and y? What is the best goal amount to ask for per category?"
   ]
  },
  {
   "cell_type": "code",
   "execution_count": null,
   "metadata": {
    "collapsed": true
   },
   "outputs": [],
   "source": []
  },
  {
   "cell_type": "markdown",
   "metadata": {},
   "source": [
    "Which subset of features is the most important in determining success for each category?"
   ]
  },
  {
   "cell_type": "code",
   "execution_count": null,
   "metadata": {
    "collapsed": true
   },
   "outputs": [],
   "source": []
  },
  {
   "cell_type": "markdown",
   "metadata": {},
   "source": [
    "Determine the ideal traits of a campaign in each category."
   ]
  },
  {
   "cell_type": "code",
   "execution_count": null,
   "metadata": {
    "collapsed": true
   },
   "outputs": [],
   "source": []
  }
 ],
 "metadata": {
  "kernelspec": {
   "display_name": "Python 2",
   "language": "python",
   "name": "python2"
  },
  "language_info": {
   "codemirror_mode": {
    "name": "ipython",
    "version": 2
   },
   "file_extension": ".py",
   "mimetype": "text/x-python",
   "name": "python",
   "nbconvert_exporter": "python",
   "pygments_lexer": "ipython2",
   "version": "2.7.14"
  }
 },
 "nbformat": 4,
 "nbformat_minor": 2
}
